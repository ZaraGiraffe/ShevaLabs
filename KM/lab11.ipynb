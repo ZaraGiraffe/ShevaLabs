{
 "cells": [
  {
   "cell_type": "code",
   "execution_count": 2,
   "metadata": {},
   "outputs": [],
   "source": [
    "import numpy as np"
   ]
  },
  {
   "cell_type": "code",
   "execution_count": 39,
   "metadata": {},
   "outputs": [],
   "source": [
    "def f(x, dec=5):\n",
    "    return np.round(-np.log(np.cos(x)), decimals=dec)\n",
    "f = np.vectorize(f)"
   ]
  },
  {
   "cell_type": "code",
   "execution_count": 77,
   "metadata": {},
   "outputs": [],
   "source": [
    "def left_rectangles(f, left, right, intervals):\n",
    "    h = (right - left) / intervals\n",
    "    arr = np.array([left + h * i for i in range(int(intervals))])\n",
    "    return np.sum(f(arr) * h)\n"
   ]
  },
  {
   "cell_type": "code",
   "execution_count": 78,
   "metadata": {},
   "outputs": [],
   "source": [
    "def find_error(num, imp_dec):\n",
    "    if num >= 1.0:\n",
    "        dec = 1.0\n",
    "        while 10**dec <= num:\n",
    "            dec += 1\n",
    "        return 10**(dec - imp_dec) / 2.0\n",
    "    else:\n",
    "        dec = 0\n",
    "        while 10**(-dec - 1) >= num:\n",
    "            dec += 1.0\n",
    "        return 10**(-dec - imp_dec) / 2.0"
   ]
  },
  {
   "cell_type": "code",
   "execution_count": 89,
   "metadata": {},
   "outputs": [],
   "source": [
    "def calculate_integral(f, left, right, M1, imp_dec=2, first_try_length=0.01):\n",
    "    intervals = np.ceil((right - left) / first_try_length)\n",
    "    approx1 = left_rectangles(f, left, right, intervals)\n",
    "    error = find_error(approx1, imp_dec)\n",
    "    \n",
    "    intervals = np.ceil((M1 * (right - left)**2) / (2 * error))\n",
    "    approx2 = left_rectangles(f, left, right, intervals)\n",
    "    return approx2, error"
   ]
  },
  {
   "cell_type": "code",
   "execution_count": 91,
   "metadata": {},
   "outputs": [
    {
     "name": "stdout",
     "output_type": "stream",
     "text": [
      "integral on (0.0, 0.08726646259971647) is 0.00010806911260474633 with error 5e-07\n",
      "integral on (0.0, 0.17453292519943295) is 0.0008833701771711076 with error 5e-06\n",
      "integral on (0.0, 0.2617993877991494) is 0.0029836593272544367 with error 5e-05\n",
      "integral on (0.0, 0.3490658503988659) is 0.007151919011438024 with error 5e-05\n",
      "integral on (0.0, 0.4363323129985824) is 0.013854776590269593 with error 0.0005\n",
      "integral on (0.0, 0.5235987755982988) is 0.024401678787316944 with error 0.0005\n",
      "integral on (0.0, 0.6108652381980153) is 0.03928423052823802 with error 0.0005\n",
      "integral on (0.0, 0.6981317007977318) is 0.05953066307340268 with error 0.0005\n",
      "integral on (0.0, 0.7853981633974483) is 0.0861837644292127 with error 0.0005\n",
      "integral on (0.0, 0.8726646259971648) is 0.11861526108746077 with error 0.005\n",
      "integral on (0.0, 0.9599310885968813) is 0.1620901820737567 with error 0.005\n",
      "integral on (0.0, 1.0471975511965976) is 0.21649982636080814 with error 0.005\n",
      "integral on (0.0, 1.134464013796314) is 0.28419967696342296 with error 0.005\n",
      "integral on (0.0, 1.2217304763960306) is 0.36837106040492773 with error 0.005\n",
      "integral on (0.0, 1.308996938995747) is 0.4737546265306014 with error 0.005\n",
      "integral on (0.0, 1.3962634015954636) is 0.6081901187152117 with error 0.005\n",
      "integral on (0.0, 1.48352986419518) is 0.7879406835780561 with error 0.005\n"
     ]
    }
   ],
   "source": [
    "left = 0.0\n",
    "for right in np.arange(np.pi / 36.0, np.pi / 2.0, np.pi / 36.0):\n",
    "    M1 = np.tan(right)\n",
    "    approx, error = calculate_integral(f, left, right, M1)\n",
    "    print(f\"integral on ({left}, {right}) is {approx} with error {error}\")"
   ]
  },
  {
   "cell_type": "code",
   "execution_count": null,
   "metadata": {},
   "outputs": [],
   "source": []
  }
 ],
 "metadata": {
  "kernelspec": {
   "display_name": "env_main",
   "language": "python",
   "name": "python3"
  },
  "language_info": {
   "codemirror_mode": {
    "name": "ipython",
    "version": 3
   },
   "file_extension": ".py",
   "mimetype": "text/x-python",
   "name": "python",
   "nbconvert_exporter": "python",
   "pygments_lexer": "ipython3",
   "version": "3.9.16"
  },
  "orig_nbformat": 4
 },
 "nbformat": 4,
 "nbformat_minor": 2
}
