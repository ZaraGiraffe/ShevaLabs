{
 "cells": [
  {
   "cell_type": "code",
   "execution_count": 1,
   "metadata": {},
   "outputs": [],
   "source": [
    "import numpy as np"
   ]
  },
  {
   "cell_type": "code",
   "execution_count": 16,
   "metadata": {},
   "outputs": [],
   "source": [
    "def f(x, dec=5):\n",
    "    if (x == 0.0):\n",
    "        return np.float32(0.0)\n",
    "    fx = (np.exp(x) - 1.0 - x - x * x / 2.0 - x * x * x / 6.0 - x * x * x * x / 24.0) / np.sqrt(x)\n",
    "    return np.round(fx, decimals=dec)\n",
    "f = np.vectorize(f)"
   ]
  },
  {
   "cell_type": "code",
   "execution_count": 17,
   "metadata": {},
   "outputs": [],
   "source": [
    "def left_rectangles(f, left, right, intervals):\n",
    "    h = (right - left) / intervals\n",
    "    arr = np.array([left + h * i for i in range(int(intervals))])\n",
    "    return np.sum(f(arr) * h)"
   ]
  },
  {
   "cell_type": "code",
   "execution_count": 18,
   "metadata": {},
   "outputs": [],
   "source": [
    "def find_error(num, imp_dec):\n",
    "    num = np.abs(num)\n",
    "    if num >= 1.0:\n",
    "        dec = 1.0\n",
    "        while 10**dec <= num:\n",
    "            dec += 1\n",
    "        return 10**(dec - imp_dec) / 2.0\n",
    "    else:\n",
    "        dec = 0\n",
    "        while 10**(-dec - 1) >= num:\n",
    "            dec += 1.0\n",
    "        return 10**(-dec - imp_dec) / 2.0"
   ]
  },
  {
   "cell_type": "code",
   "execution_count": 19,
   "metadata": {},
   "outputs": [],
   "source": [
    "def calculate_integral(f, left, right, M1, imp_dec=2, first_try_length=0.01):\n",
    "    intervals = np.ceil((right - left) / first_try_length)\n",
    "    approx1 = left_rectangles(f, left, right, intervals)\n",
    "    error = find_error(approx1, imp_dec)\n",
    "    \n",
    "    intervals = np.ceil((M1 * (right - left)**2) / (2 * error))\n",
    "    approx2 = left_rectangles(f, left, right, intervals)\n",
    "    return approx2, error"
   ]
  },
  {
   "cell_type": "code",
   "execution_count": 20,
   "metadata": {},
   "outputs": [
    {
     "name": "stdout",
     "output_type": "stream",
     "text": [
      "integral on [0.0, 1.0] is 0.0017582436557859182 with error 5e-05\n"
     ]
    }
   ],
   "source": [
    "M1 = 3.0\n",
    "left, right = 0.0, 1.0\n",
    "approx, error = calculate_integral(f, left, right, M1)\n",
    "print(f\"integral on [{left}, {right}] is {approx} with error {error}\")"
   ]
  },
  {
   "cell_type": "code",
   "execution_count": 22,
   "metadata": {},
   "outputs": [
    {
     "data": {
      "text/plain": [
       "2.9253032172007596"
      ]
     },
     "execution_count": 22,
     "metadata": {},
     "output_type": "execute_result"
    }
   ],
   "source": [
    "approx + 11051/3780"
   ]
  },
  {
   "cell_type": "code",
   "execution_count": null,
   "metadata": {},
   "outputs": [],
   "source": []
  }
 ],
 "metadata": {
  "kernelspec": {
   "display_name": "env_main",
   "language": "python",
   "name": "python3"
  },
  "language_info": {
   "codemirror_mode": {
    "name": "ipython",
    "version": 3
   },
   "file_extension": ".py",
   "mimetype": "text/x-python",
   "name": "python",
   "nbconvert_exporter": "python",
   "pygments_lexer": "ipython3",
   "version": "3.9.16"
  },
  "orig_nbformat": 4
 },
 "nbformat": 4,
 "nbformat_minor": 2
}
