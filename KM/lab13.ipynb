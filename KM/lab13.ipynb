{
 "cells": [
  {
   "cell_type": "code",
   "execution_count": 1,
   "metadata": {},
   "outputs": [],
   "source": [
    "import numpy as np"
   ]
  },
  {
   "cell_type": "code",
   "execution_count": 2,
   "metadata": {},
   "outputs": [],
   "source": [
    "def f(x, dec=5):\n",
    "    return np.round(1.0 / (1.0 + x * x * x), decimals=dec)\n",
    "f = np.vectorize(f)"
   ]
  },
  {
   "cell_type": "code",
   "execution_count": 3,
   "metadata": {},
   "outputs": [],
   "source": [
    "def right_rectangles(f, left, right, intervals):\n",
    "    h = (right - left) / intervals\n",
    "    arr = np.array([left + h * (i + 1) for i in range(int(intervals))])\n",
    "    return np.sum(f(arr) * h)"
   ]
  },
  {
   "cell_type": "code",
   "execution_count": 6,
   "metadata": {},
   "outputs": [],
   "source": [
    "def calculate_integral(f, left, right, M1, error):\n",
    "    intervals = np.ceil((M1 * (right - left)**2) / (2 * error))\n",
    "    approx2 = right_rectangles(f, left, right, intervals)\n",
    "    return approx2"
   ]
  },
  {
   "cell_type": "code",
   "execution_count": 13,
   "metadata": {},
   "outputs": [
    {
     "name": "stdout",
     "output_type": "stream",
     "text": [
      "integral on [2.0, inf) is 0.11694548351648353 with error 0.005\n"
     ]
    }
   ],
   "source": [
    "M1, error = 0.7, 0.0025\n",
    "left, right = 2.0, 15.0\n",
    "approx = calculate_integral(f, left, right, M1, error)\n",
    "print(f\"integral on [{left}, inf) is {approx} with error {error + error}\")"
   ]
  },
  {
   "cell_type": "code",
   "execution_count": null,
   "metadata": {},
   "outputs": [],
   "source": []
  }
 ],
 "metadata": {
  "kernelspec": {
   "display_name": "env_main",
   "language": "python",
   "name": "python3"
  },
  "language_info": {
   "codemirror_mode": {
    "name": "ipython",
    "version": 3
   },
   "file_extension": ".py",
   "mimetype": "text/x-python",
   "name": "python",
   "nbconvert_exporter": "python",
   "pygments_lexer": "ipython3",
   "version": "3.9.16"
  },
  "orig_nbformat": 4
 },
 "nbformat": 4,
 "nbformat_minor": 2
}
